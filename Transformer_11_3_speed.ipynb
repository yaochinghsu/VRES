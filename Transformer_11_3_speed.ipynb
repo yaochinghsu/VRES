{
 "cells": [
  {
   "cell_type": "code",
   "execution_count": 1,
   "id": "d9f9b093",
   "metadata": {},
   "outputs": [],
   "source": [
    "import pandas as pd\n",
    "import numpy as np\n",
    "import torch\n",
    "import torch.nn as nn\n",
    "import torch.optim as optim\n",
    "import torch.nn.functional as F\n",
    "import os\n",
    "import time\n",
    "import random\n",
    "import matplotlib.pyplot as plt\n",
    "import math\n",
    "import glob\n",
    "from torch import Tensor\n",
    "from torch.utils.tensorboard import SummaryWriter\n",
    "from torch.utils.data import Dataset, DataLoader, random_split\n",
    "from torch.nn.utils.rnn import pad_sequence,pack_padded_sequence,pack_sequence,pad_packed_sequence\n",
    "from data_processing import get_data, get_sources_targets_short, get_source_target, get_speed_short, get_with_speed\n",
    "\n",
    "\n"
   ]
  },
  {
   "cell_type": "code",
   "execution_count": 2,
   "id": "d80422ac",
   "metadata": {},
   "outputs": [],
   "source": [
    "def scaled_dot_product_attention(query: Tensor, key: Tensor, value: Tensor) -> Tensor:\n",
    "    temp = query.bmm(key.transpose(1, 2))\n",
    "    scale = query.size(-1) ** 0.5\n",
    "    softmax = F.softmax(temp / scale, dim=-1)\n",
    "    return softmax.bmm(value)"
   ]
  },
  {
   "cell_type": "code",
   "execution_count": 3,
   "id": "a79a4751",
   "metadata": {},
   "outputs": [],
   "source": [
    "class AttentionHead(nn.Module):\n",
    "    def __init__(self, dim_in: int, dim_q: int, dim_k: int):\n",
    "        super().__init__()\n",
    "        self.q = nn.Linear(dim_in, dim_q)\n",
    "        self.k = nn.Linear(dim_in, dim_k)\n",
    "        self.v = nn.Linear(dim_in, dim_k)\n",
    "\n",
    "    def forward(self, query: Tensor, key: Tensor, value: Tensor) -> Tensor:\n",
    "        \n",
    "        return scaled_dot_product_attention(self.q(query), self.k(key), self.v(value))"
   ]
  },
  {
   "cell_type": "code",
   "execution_count": 4,
   "id": "a556e621",
   "metadata": {},
   "outputs": [],
   "source": [
    "class MultiHeadAttention(nn.Module):\n",
    "    def __init__(self, num_heads: int, dim_in: int, dim_q: int, dim_k: int):\n",
    "        super().__init__()\n",
    "        self.heads = nn.ModuleList(\n",
    "            [AttentionHead(dim_in, dim_q, dim_k) for _ in range(num_heads)]\n",
    "        )\n",
    "        self.linear = nn.Linear(num_heads * dim_k, dim_in)\n",
    "\n",
    "    def forward(self, query: Tensor, key: Tensor, value: Tensor) -> Tensor:\n",
    "        \n",
    "        return self.linear(\n",
    "            torch.cat([h(query, key, value) for h in self.heads], dim=-1)\n",
    "        )"
   ]
  },
  {
   "cell_type": "code",
   "execution_count": 5,
   "id": "63d8fd19",
   "metadata": {},
   "outputs": [],
   "source": [
    "def position_encoding(\n",
    "    seq_len: int, dim_model: int, device: torch.device = torch.device(\"cpu\"),\n",
    ") -> Tensor:\n",
    "    pos = torch.arange(seq_len, dtype=torch.float, device=device).reshape(1, -1, 1)\n",
    "    dim = torch.arange(dim_model, dtype=torch.float, device=device).reshape(1, 1, -1)\n",
    "    phase = pos / (1e4 ** (dim // dim_model))\n",
    "\n",
    "    return torch.where(dim.long() % 2 == 0, torch.sin(phase), torch.cos(phase))"
   ]
  },
  {
   "cell_type": "code",
   "execution_count": 6,
   "id": "54b3385b",
   "metadata": {},
   "outputs": [],
   "source": [
    "def feed_forward(dim_input: int = 512, dim_feedforward: int = 2048) -> nn.Module:\n",
    "    return nn.Sequential(\n",
    "        nn.Linear(dim_input, dim_feedforward),\n",
    "        nn.ReLU(),\n",
    "        nn.Linear(dim_feedforward, dim_input),\n",
    "    )"
   ]
  },
  {
   "cell_type": "code",
   "execution_count": 7,
   "id": "e4919954",
   "metadata": {},
   "outputs": [],
   "source": [
    "class Residual(nn.Module):\n",
    "    def __init__(self, sublayer: nn.Module, dimension: int, dropout: float = 0.1):\n",
    "        super().__init__()\n",
    "        self.sublayer = sublayer\n",
    "        self.norm = nn.LayerNorm(dimension)\n",
    "        self.dropout = nn.Dropout(dropout)\n",
    "\n",
    "    def forward(self, *tensors: Tensor) -> Tensor:\n",
    "        # Assume that the \"query\" tensor is given first, so we can compute the\n",
    "        # residual.  This matches the signature of 'MultiHeadAttention'.\n",
    "        return self.norm(tensors[0] + self.dropout(self.sublayer(*tensors)))"
   ]
  },
  {
   "cell_type": "code",
   "execution_count": 8,
   "id": "4fbb7e7b",
   "metadata": {},
   "outputs": [],
   "source": [
    "class TransformerEncoderLayer(nn.Module):\n",
    "    def __init__(\n",
    "        self,\n",
    "        dim_model: int = 512,\n",
    "        num_heads: int = 3,\n",
    "        dim_feedforward: int = 2048,\n",
    "        dropout: float = 0.1,\n",
    "    ):\n",
    "        super().__init__()\n",
    "        dim_q = dim_k = max(dim_model // num_heads, 1)\n",
    "        self.attention = Residual(\n",
    "            MultiHeadAttention(num_heads, dim_model, dim_q, dim_k),\n",
    "            dimension=dim_model,\n",
    "            dropout=dropout,\n",
    "        )\n",
    "        self.feed_forward = Residual(\n",
    "            feed_forward(dim_model, dim_feedforward),\n",
    "            dimension=dim_model,\n",
    "            dropout=dropout,\n",
    "        )\n",
    "\n",
    "    def forward(self, src: Tensor) -> Tensor:\n",
    "        src = self.attention(src, src, src)\n",
    "        return self.feed_forward(src)\n",
    "\n",
    "\n",
    "class TransformerEncoder(nn.Module):\n",
    "    def __init__(\n",
    "        self,\n",
    "        input_size: int = 4,\n",
    "        num_layers: int = 3,\n",
    "        dim_model: int = 512,\n",
    "        num_heads: int = 3,\n",
    "        dim_feedforward: int = 2048,\n",
    "        dropout: float = 0.1,\n",
    "    ):\n",
    "        super().__init__()\n",
    "        self.layers = nn.ModuleList(\n",
    "            [\n",
    "                TransformerEncoderLayer(dim_model, num_heads, dim_feedforward, dropout)\n",
    "                for _ in range(num_layers)\n",
    "            ]\n",
    "        )\n",
    "        self.linear_in = nn.Linear(input_size, dim_model)\n",
    "        \n",
    "\n",
    "    def forward(self, src: Tensor) -> Tensor:\n",
    "        embedded = self.linear_in(src)\n",
    "        seq_len, dimension = embedded.size(1), embedded.size(2)\n",
    "        \n",
    "        embedded += position_encoding(seq_len, dimension)\n",
    "        for layer in self.layers:\n",
    "            embedded = layer(embedded)\n",
    "        \n",
    "        return embedded\n"
   ]
  },
  {
   "cell_type": "code",
   "execution_count": 9,
   "id": "0b68eba6",
   "metadata": {},
   "outputs": [],
   "source": [
    "class TransformerDecoderLayer(nn.Module):\n",
    "    def __init__(\n",
    "        self,\n",
    "        dim_model: int = 512,\n",
    "        num_heads: int = 3,\n",
    "        dim_feedforward: int = 2048,\n",
    "        dropout: float = 0.1,\n",
    "    ):\n",
    "        super().__init__()\n",
    "        dim_q = dim_k = max(dim_model // num_heads, 1)\n",
    "       \n",
    "        self.attention = Residual(\n",
    "            MultiHeadAttention(num_heads, dim_model, dim_q, dim_k),\n",
    "            dimension=dim_model,\n",
    "            dropout=dropout,\n",
    "        )\n",
    "        self.feed_forward = Residual(\n",
    "            feed_forward(dim_model, dim_feedforward),\n",
    "            dimension=dim_model,\n",
    "            dropout=dropout,\n",
    "        )\n",
    "\n",
    "    def forward(self, tgt: Tensor, memory: Tensor) -> Tensor:\n",
    "       \n",
    "        \n",
    "        tgt = self.attention(tgt, memory, memory)\n",
    "        return self.feed_forward(tgt)\n",
    "\n",
    "\n",
    "class TransformerDecoder(nn.Module):\n",
    "    def __init__(\n",
    "        self,\n",
    "        output_size: int = 4,\n",
    "        num_layers: int = 3,\n",
    "        dim_model: int = 512,\n",
    "        num_heads: int = 8,\n",
    "        dim_feedforward: int = 2048,\n",
    "        dropout: float = 0.1,\n",
    "    ):\n",
    "        super().__init__()\n",
    "        self.output_size = output_size\n",
    "        self.layers = nn.ModuleList(\n",
    "            [\n",
    "                TransformerDecoderLayer(dim_model, num_heads, dim_feedforward, dropout)\n",
    "                for _ in range(num_layers)\n",
    "            ]\n",
    "        )\n",
    "        \n",
    "       \n",
    "        self.linear_out = nn.Linear(dim_model, output_size)\n",
    "        \n",
    "    def forward(self, tgt: Tensor, memory: Tensor) -> Tensor:\n",
    "        for layer in self.layers:\n",
    "            tgt = layer(tgt, memory) #[20, 500, 512], [20. 1100.512]=> [20, 500, 512]\n",
    "        \n",
    "        outputs = self.linear_out(tgt).view(num_target, tgt.shape[0], -1, self.output_size)\n",
    "        \n",
    "        \n",
    "        return outputs.permute(1, 2, 0, 3)  #11, 20, 100, 2=>20,100,11,2"
   ]
  },
  {
   "cell_type": "code",
   "execution_count": 10,
   "id": "9739d5df",
   "metadata": {},
   "outputs": [],
   "source": [
    "class Transformer(nn.Module):\n",
    "    def __init__(\n",
    "        self, \n",
    "        num_encoder_layers: int = 6,\n",
    "        num_decoder_layers: int = 6,\n",
    "        dim_model: int = 512, \n",
    "        num_heads: int = 3, \n",
    "        dim_feedforward: int = 2048, \n",
    "        dropout: float = 0.1, \n",
    "        activation: nn.Module = nn.ReLU(),\n",
    "    ):\n",
    "        super().__init__()\n",
    "        self.encoder = TransformerEncoder(\n",
    "            num_layers=num_encoder_layers,\n",
    "            dim_model=dim_model,\n",
    "            num_heads=num_heads,\n",
    "            \n",
    "            dim_feedforward=dim_feedforward,\n",
    "            dropout=dropout,\n",
    "        )\n",
    "        self.decoder = TransformerDecoder(\n",
    "            num_layers=num_decoder_layers,\n",
    "            dim_model=dim_model,\n",
    "            num_heads=num_heads,\n",
    "            dim_feedforward=dim_feedforward,\n",
    "            dropout=dropout,\n",
    "        )\n",
    "\n",
    "    \n",
    "    def forward(self, src: Tensor) -> Tensor:\n",
    "       \n",
    "        src_permute = src.permute(2, 0, 1, 3) #20, 100  11, 2=> 11, 20, 100, 2\n",
    "        temp = []\n",
    "        tgt_src = []\n",
    "        \n",
    "        for i, each_src in enumerate(src_permute):\n",
    "            enc = self.encoder(each_src)\n",
    "            temp.append(enc)  # 11 of #encoder[20, 100, 2]=>[20, 100, 512]\n",
    "            if (i < num_target):\n",
    "                tgt_src.append(enc)\n",
    "                \n",
    "        total_enc = torch.cat(temp, dim = 1)  #20, 100*11, 512\n",
    "        tgt = torch.cat(tgt_src, dim = 1)  #20, 100*5, 512\n",
    "        return self.decoder(tgt, total_enc)\n"
   ]
  },
  {
   "cell_type": "code",
   "execution_count": 11,
   "id": "040b04d2",
   "metadata": {},
   "outputs": [],
   "source": [
    "# produce dataset\n",
    "class MyDataset(Dataset):\n",
    "    def __init__(self,data):\n",
    "        # --------------------------------------------\n",
    "        # Initialize paths, transforms, and so on\n",
    "        # --------------------------------------------\n",
    "        super().__init__()\n",
    "        self.data = data\n",
    "        \n",
    "\n",
    "    def __getitem__(self, index):\n",
    "        # --------------------------------------------\n",
    "        # 1. Read from file (using numpy.fromfile, PIL.Image.open)\n",
    "        # 2. Preprocess the data (torchvision.Transform).\n",
    "        # 3. Return the data (e.g. image and label)\n",
    "        # --------------------------------------------\n",
    "        \n",
    "        return self.data[index]\n",
    "        \n",
    "    def __len__(self):\n",
    "        # --------------------------------------------\n",
    "        # Indicate the total size of the dataset\n",
    "        # --------------------------------------------\n",
    "        return len(self.data)\n",
    "\n"
   ]
  },
  {
   "cell_type": "code",
   "execution_count": 12,
   "id": "4f3a2510",
   "metadata": {},
   "outputs": [
    {
     "name": "stdout",
     "output_type": "stream",
     "text": [
      "[53.11965 27.65268] [    0  5621 11154 12562 13750]\n"
     ]
    }
   ],
   "source": [
    "path = './data'\n",
    "df = pd.concat(map(pd.read_csv, glob.glob(path + \"/*.csv\")))\n",
    "# path = 'D:/VRE_project/nba-movement-data/data/csv/0021500001.csv'\n",
    "# df = pd.read_csv(path)\n",
    "game_data, flag_index = get_data(df)\n",
    "print(game_data[0], flag_index[:5])"
   ]
  },
  {
   "cell_type": "code",
   "execution_count": 13,
   "id": "d0e5b9f1",
   "metadata": {},
   "outputs": [],
   "source": [
    "source_ordinal = 0\n",
    "num_source = 11\n",
    "target_ordinal = 1\n",
    "num_target = 3\n",
    "sources, targets = get_sources_targets_short(game_data, flag_index, 15)\n",
    "s_speeds, t_speeds = get_speed_short(game_data, flag_index, 15)\n",
    "# source, target = get_source_target(sources, targets, source_ordinal,num_source,target_ordinal,num_target)\n",
    "source, target =get_with_speed(sources,s_speeds, source_ordinal,num_source,targets, t_speeds, target_ordinal,num_target )\n",
    "\n"
   ]
  },
  {
   "cell_type": "code",
   "execution_count": 14,
   "id": "59eaa9c9",
   "metadata": {},
   "outputs": [
    {
     "name": "stdout",
     "output_type": "stream",
     "text": [
      "2394 torch.Size([11, 4])\n"
     ]
    }
   ],
   "source": [
    "print(len(source), source[0][0].shape)"
   ]
  },
  {
   "cell_type": "code",
   "execution_count": 15,
   "id": "90a0729a",
   "metadata": {},
   "outputs": [],
   "source": [
    "BATCH_SIZE = 20\n",
    "total = []\n",
    "for i in range(len(source)):\n",
    "    temp = (source[i], target[i])\n",
    "    total.append(temp)\n",
    "example = []\n",
    "for i in range(BATCH_SIZE):\n",
    "    temp = (source[i], target[i])\n",
    "    example.append(temp)"
   ]
  },
  {
   "cell_type": "code",
   "execution_count": 16,
   "id": "1f079115",
   "metadata": {},
   "outputs": [],
   "source": [
    "total_data = MyDataset(total)\n",
    "ex_data =MyDataset(example)\n",
    "train_size = int(len(total_data) * 0.7)\n",
    "val_size = int(len(total_data)*0.2)\n",
    "test_size = len(total_data) - train_size - val_size\n",
    "train_data,val_data, test_data =random_split(total_data, [train_size, val_size, test_size])\n",
    "\n",
    "train_loader = DataLoader(train_data, batch_size=BATCH_SIZE, shuffle=True, drop_last = True)\n",
    "val_loader = DataLoader(val_data, batch_size=BATCH_SIZE, shuffle=False, drop_last = True)\n",
    "test_loader = DataLoader(test_data, batch_size=BATCH_SIZE, shuffle=False, drop_last = True)\n",
    "ex_loader = DataLoader(ex_data, batch_size=BATCH_SIZE, shuffle=False, drop_last = False)\n"
   ]
  },
  {
   "cell_type": "code",
   "execution_count": 17,
   "id": "d9058d5d",
   "metadata": {},
   "outputs": [
    {
     "name": "stdout",
     "output_type": "stream",
     "text": [
      "torch.Size([20, 15, 11, 4]) torch.Size([20, 15, 3, 4])\n",
      "torch.Size([20, 15, 11, 4]) torch.Size([20, 15, 3, 4])\n"
     ]
    }
   ],
   "source": [
    "print(iter(train_loader).__next__()[0].shape,iter(train_loader).__next__()[1].shape )\n",
    "print(iter(ex_loader).__next__()[0].shape,iter(ex_loader).__next__()[1].shape )"
   ]
  },
  {
   "cell_type": "code",
   "execution_count": 18,
   "id": "36ef54e9",
   "metadata": {},
   "outputs": [],
   "source": [
    "dev = torch.device(\"cuda:0\" if torch.cuda.is_available() else \"cpu\")\n",
    "model = Transformer().to(dev)\n"
   ]
  },
  {
   "cell_type": "code",
   "execution_count": 19,
   "id": "2005322e",
   "metadata": {},
   "outputs": [],
   "source": [
    "def train(model, dataloader, optimizer, criterion):\n",
    "    model.train()\n",
    "    epoch_loss = 0\n",
    "    for i, (x, y) in enumerate(dataloader):\n",
    "        # put data into GPU\n",
    "        x = x.to(dev)\n",
    "        y = y.to(dev)\n",
    "        \n",
    "        # zero all param gradients\n",
    "        optimizer.zero_grad()\n",
    "        \n",
    "        # run attetion_encoding to get predictions\n",
    "        y_pred = model(x)\n",
    "        \n",
    "        # get loss and compute model trainable params gradients though backpropagation\n",
    "        loss = criterion(y_pred, y)\n",
    "        loss.backward()\n",
    "        \n",
    "        # update model params\n",
    "        optimizer.step()\n",
    "        \n",
    "        # add batch loss, since loss is single item tensor\n",
    "        # we can get its value by loss.item()\n",
    "        epoch_loss += loss.item()\n",
    "    return epoch_loss / len(dataloader)\n",
    "\n",
    "def evaluate(model, dataloader, criterion):\n",
    "    model.eval()\n",
    "    epoch_loss = 0\n",
    "    with torch.no_grad():\n",
    "        for i, (x, y) in enumerate(dataloader):\n",
    "            x = x.to(dev)\n",
    "            y = y.to(dev)\n",
    "            \n",
    "            # turn off teacher forcing\n",
    "            y_pred = model(x)\n",
    "            \n",
    "            loss = criterion(y_pred, y)\n",
    "            epoch_loss += loss.item()\n",
    "    return epoch_loss / len(dataloader)\n",
    "\n"
   ]
  },
  {
   "cell_type": "code",
   "execution_count": 20,
   "id": "45ef84a9",
   "metadata": {},
   "outputs": [],
   "source": [
    "N_EPOCHES = 20\n",
    "best_val_loss = float('inf')\n",
    "criterion = nn.MSELoss()\n",
    "optimizer = optim.SGD(model.parameters(), lr=0.001, momentum=0.9)\n",
    "\n"
   ]
  },
  {
   "cell_type": "code",
   "execution_count": 21,
   "id": "3d81a639",
   "metadata": {},
   "outputs": [],
   "source": [
    "%load_ext tensorboard\n",
    "writer = SummaryWriter()"
   ]
  },
  {
   "cell_type": "code",
   "execution_count": null,
   "id": "60f917e3",
   "metadata": {},
   "outputs": [
    {
     "name": "stderr",
     "output_type": "stream",
     "text": [
      "<ipython-input-5-ebea6724ae9b>:6: UserWarning: __floordiv__ is deprecated, and its behavior will change in a future version of pytorch. It currently rounds toward 0 (like the 'trunc' function NOT 'floor'). This results in incorrect rounding for negative values. To keep the current behavior, use torch.div(a, b, rounding_mode='trunc'), or for actual floor division, use torch.div(a, b, rounding_mode='floor').\n",
      "  phase = pos / (1e4 ** (dim // dim_model))\n"
     ]
    },
    {
     "name": "stdout",
     "output_type": "stream",
     "text": [
      "Epoch: 01 | Time:  529.0858864784241s\n",
      "\tTrain Loss: 250.520\n",
      "\t Val. Loss: 217.321\n",
      "Epoch: 02 | Time:  531.924756526947s\n",
      "\tTrain Loss: 219.035\n",
      "\t Val. Loss: 257.165\n",
      "Epoch: 03 | Time:  525.7669937610626s\n",
      "\tTrain Loss: 220.906\n",
      "\t Val. Loss: 216.130\n"
     ]
    }
   ],
   "source": [
    "# load previous best model params if exists\n",
    "model_dir = \"saved_models/tranformer\"\n",
    "saved_model_path = model_dir + \"/best_transformer_11_3_speed.pt\"\n",
    "# if os.path.isfile(saved_model_path):\n",
    "#     model.load_state_dict(torch.load(saved_model_path))\n",
    "#     print(\"successfully load previous best model parameters\")\n",
    "    \n",
    "for epoch in range(N_EPOCHES):\n",
    "    start_time = time.time()\n",
    "    \n",
    "    train_loss = train(model, train_loader, optimizer, criterion)\n",
    "    val_loss = evaluate(model, val_loader, criterion)\n",
    "   \n",
    "    end_time = time.time()\n",
    "    \n",
    "    secs = end_time - start_time\n",
    "    writer.add_scalar('Loss/train', train_loss, epoch)\n",
    "    writer.add_scalar('Loss/val', val_loss,epoch)\n",
    "   \n",
    "    print(F'Epoch: {epoch+1:02} | Time:  {secs}s')\n",
    "    print(F'\\tTrain Loss: {train_loss:.3f}')\n",
    "    print(F'\\t Val. Loss: {val_loss:.3f}')\n",
    "\n",
    "    if val_loss < best_val_loss:\n",
    "        os.makedirs(model_dir, exist_ok=True)\n",
    "        torch.save(model.state_dict(), saved_model_path)\n",
    "writer.close()"
   ]
  },
  {
   "cell_type": "code",
   "execution_count": 23,
   "id": "365d2657",
   "metadata": {},
   "outputs": [
    {
     "name": "stderr",
     "output_type": "stream",
     "text": [
      "<ipython-input-5-ebea6724ae9b>:6: UserWarning: __floordiv__ is deprecated, and its behavior will change in a future version of pytorch. It currently rounds toward 0 (like the 'trunc' function NOT 'floor'). This results in incorrect rounding for negative values. To keep the current behavior, use torch.div(a, b, rounding_mode='trunc'), or for actual floor division, use torch.div(a, b, rounding_mode='floor').\n",
      "  phase = pos / (1e4 ** (dim // dim_model))\n"
     ]
    },
    {
     "name": "stdout",
     "output_type": "stream",
     "text": [
      "| Test Loss: 214.952 \n"
     ]
    }
   ],
   "source": [
    "\n",
    "test_loss = evaluate(model, test_loader, criterion)\n",
    "print(f'| Test Loss: {test_loss:.3f} ')\n",
    "# | Test PPL: {math.exp(round(test_loss, 3)):7.3f} |"
   ]
  },
  {
   "cell_type": "code",
   "execution_count": 34,
   "id": "86bc2ccf",
   "metadata": {},
   "outputs": [
    {
     "name": "stderr",
     "output_type": "stream",
     "text": [
      "<ipython-input-5-ebea6724ae9b>:6: UserWarning: __floordiv__ is deprecated, and its behavior will change in a future version of pytorch. It currently rounds toward 0 (like the 'trunc' function NOT 'floor'). This results in incorrect rounding for negative values. To keep the current behavior, use torch.div(a, b, rounding_mode='trunc'), or for actual floor division, use torch.div(a, b, rounding_mode='floor').\n",
      "  phase = pos / (1e4 ** (dim // dim_model))\n"
     ]
    },
    {
     "data": {
      "text/plain": [
       "<Figure size 432x288 with 0 Axes>"
      ]
     },
     "metadata": {},
     "output_type": "display_data"
    },
    {
     "data": {
      "image/png": "[encoded data removed]",
      "text/plain": [
       "<Figure size 432x288 with 2 Axes>"
      ]
     },
     "metadata": {
      "needs_background": "light"
     },
     "output_type": "display_data"
    }
   ],
   "source": [
    "scenes = 2\n",
    "plt.clf()\n",
    "fig, axs = plt.subplots(scenes,sharex=True, sharey=True )\n",
    "plt.axis([0, 90, 0, 40])\n",
    "fig.suptitle('Transformer Model--  10 players + 1 ball to predict 3 player')\n",
    "p, q = iter(ex_loader).__next__()  # p [20, 15, 11, 4] q [20, 15, 3, 4]\n",
    "r = model(p).detach()  #r [20, 15, 3, 4]\n",
    "p_= p.permute(0, 2, 1, 3) #20, 11, 15, 4\n",
    "q_= q.permute(0, 2, 1, 3) \n",
    "r_= r.permute(0, 2, 1, 3)\n",
    "for j in range(scenes):\n",
    "    for i in range(len(p_[j])):\n",
    "        if (i >= target_ordinal and i < target_ordinal + num_target):\n",
    "            axs[j].plot(p_[j][i][:, 0], p_[j][i][:, 1], 'ro', linewidth=0.5, label = \"source\")\n",
    "          \n",
    "        axs[j].plot(p_[j][i][:, 0], p_[j][i][:, 1], color = \"red\", label =\"ref\", )\n",
    "    for i in range(len(q_[j])):\n",
    "        axs[j].plot(q_[j][i][:, 0], q_[j][i][:, 1], \"bx\", linewidth = 0.2, label = \"target\")\n",
    "        axs[j].plot(r_[j][i][:, 0], r_[j][i][:, 1], \"gx\", linewidth = 0.2, label = \"predict\")\n",
    "\n",
    "plt.show()"
   ]
  },
  {
   "cell_type": "code",
   "execution_count": null,
   "id": "b83688e1",
   "metadata": {},
   "outputs": [],
   "source": [
    "!tensorboard --logdir=runs"
   ]
  },
  {
   "cell_type": "code",
   "execution_count": null,
   "id": "ab148743",
   "metadata": {},
   "outputs": [],
   "source": []
  }
 ],
 "metadata": {
  "kernelspec": {
   "display_name": "Python 3 (ipykernel)",
   "language": "python",
   "name": "python3"
  },
  "language_info": {
   "codemirror_mode": {
    "name": "ipython",
    "version": 3
   },
   "file_extension": ".py",
   "mimetype": "text/x-python",
   "name": "python",
   "nbconvert_exporter": "python",
   "pygments_lexer": "ipython3",
   "version": "3.9.7"
  }
 },
 "nbformat": 4,
 "nbformat_minor": 5
}
