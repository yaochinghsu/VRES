{
 "cells": [
  {
   "cell_type": "code",
   "execution_count": 1,
   "id": "d9f9b093",
   "metadata": {},
   "outputs": [],
   "source": [
    "import pandas as pd\n",
    "import numpy as np\n",
    "import torch\n",
    "import torch.nn as nn\n",
    "import torch.optim as optim\n",
    "import torch.nn.functional as F\n",
    "import os\n",
    "import time\n",
    "import random\n",
    "import matplotlib.pyplot as plt\n",
    "import math\n",
    "import glob\n",
    "from torch.utils.tensorboard import SummaryWriter\n",
    "from torch.utils.data import Dataset, DataLoader, random_split\n",
    "from torch.nn.utils.rnn import pad_sequence,pack_padded_sequence,pack_sequence,pad_packed_sequence\n",
    "from data_processing import get_data, get_sources_targets_short, get_source_target, get_speed_short, get_with_speed"
   ]
  },
  {
   "cell_type": "code",
   "execution_count": 2,
   "id": "e820c46b",
   "metadata": {},
   "outputs": [],
   "source": [
    "class Encoder(nn.Module):\n",
    "    def __init__(self, \n",
    "                 input_size = 2,\n",
    "                 embedding_size = 128,  # this \"embedding\" is not the real \"embedding\", it is just a y = Ax linear transformation\n",
    "                 hidden_size = 256,\n",
    "                 n_layers = 4,\n",
    "                 bidirectional = False,\n",
    "                 dropout = 0.5):\n",
    "        super().__init__()\n",
    "        self.input_size = input_size\n",
    "        self.hidden_size = hidden_size\n",
    "        self.n_layers = n_layers\n",
    "        self.bidirectional = bidirectional\n",
    "        self.dropout = nn.Dropout(dropout)\n",
    "        \n",
    "        self.linear = nn.Linear(input_size, embedding_size)\n",
    "        self.rnn = nn.LSTM(embedding_size, hidden_size, n_layers, dropout = dropout, bidirectional = bidirectional)\n",
    "               \n",
    "\n",
    "    def forward(self, x, hidden):\n",
    "        # embedded: [sequence len, batch size, embedding size]  #15, 20, 128\n",
    "        embedded = self.dropout(F.relu(self.linear(x)))\n",
    "        encoder_outputs, hidden = self.rnn(embedded, hidden)\n",
    "        return encoder_outputs, hidden  #15, 20, 256 (4, 20, 256)*2\n",
    "    \n",
    "    def init_hidden(self):\n",
    "        return (torch.zeros((1 + int(self.bidirectional))*self.n_layers, BATCH_SIZE, self.hidden_size),\n",
    "                torch.zeros((1 + int(self.bidirectional))*self.n_layers, BATCH_SIZE, self.hidden_size))"
   ]
  },
  {
   "cell_type": "code",
   "execution_count": 3,
   "id": "0f8715c1",
   "metadata": {},
   "outputs": [],
   "source": [
    "class AttentionDecoder(nn.Module):\n",
    "    def __init__(self,\n",
    "                 output_size = 2, \n",
    "                 input_size = 2, \n",
    "                 embedding_size = 128,\n",
    "                 hidden_size = 256,\n",
    "                 n_layers = 4,\n",
    "                 dropout = 0.5):\n",
    "        super().__init__()\n",
    "        self.output_size = output_size\n",
    "        self.input_size = input_size\n",
    "        self.hidden_size = hidden_size\n",
    "        self.n_layers = n_layers\n",
    "        \n",
    "        self.embedding = nn.Linear(input_size, embedding_size)\n",
    "        self.attn = nn.Linear(hidden_size*2, 1)\n",
    "        self.rnn = nn.LSTM(embedding_size + hidden_size, hidden_size,  n_layers, dropout = dropout)\n",
    "        self.linear_output = nn.Linear(hidden_size, output_size)\n",
    "        self.dropout = nn.Dropout(dropout)\n",
    "        \n",
    "    \n",
    "    def init_hidden(self):\n",
    "        return (torch.zeros(self.n_layers, BATCH_SIZE, self.hidden_size),\n",
    "                torch.zeros(self.n_layers, BATCH_SIZE, self.hidden_size))\n",
    "   \n",
    "    def forward(self, input, hidden, all_outputs): #[20, 4], [4,20, 256]*2, [11,15, 20, 256] \n",
    "\n",
    "        input = input.unsqueeze(0)  #[20, 2]=> unsqueeze =[1, 20, 4]\n",
    "        embedded = self.dropout(F.relu(self.embedding(input))) #[1, 20, 4]=> embed =[1, 20, 128]\n",
    "        \n",
    "        attn_applied = (hidden[0][0]*0).unsqueeze(0).expand(all_outputs.size(0),-1, -1)  # 11,20, 256\n",
    "        \n",
    "        \"\"\" find the relationship between the (first decoder) hidden state and each encoder_output, \n",
    "        method: concat hidden[0] and each encoder_output in dim =1, then perform attention \"\"\"\n",
    "        weights = []\n",
    "        for j in range(len(all_outputs)): \n",
    "            for i in range(len(all_outputs[j])):\n",
    "                weights.append(self.attn(torch.cat((hidden[0][0],all_outputs[j][i]), dim = 1))) \n",
    "                # hidden[0] = [4, 20, 256] hidden[0][0] = [20, 256]\n",
    "                # encoder_outputs = [15, 20, 256] encoder_ouputs[i] = [20, 256]\n",
    "                # cat(dim 1) = [20, 512] => att =[20]=> for loop = list of 15*11 each item size 20]\n",
    "\n",
    "        #concat weights in dim = 1,(change list to tensor) and softmax the weight in dim 1\n",
    "        normalized_weights = F.softmax(torch.cat(weights, 1), 1) #20, 15*11\n",
    "        \n",
    "        temp = normalized_weights.view(-1, all_outputs.size(0), all_outputs.size(1)) # 20, 11, 15\n",
    "        \n",
    "        # bmm : batch*n*m X batch*m*p = batch*n*p, therefore, unsqueeze in dim = 1 (n = 1)\n",
    "       \n",
    "        for j in range(len(all_outputs)):\n",
    "            \n",
    "            attn_applied[j] = torch.bmm(temp[:, j, :].unsqueeze(1),all_outputs[j].permute(1, 0, 2)).squeeze(1) \n",
    "            #[20,1,15]X[20,15,256] = [20, 1, 256]\n",
    "        \n",
    "        final_attn_applied = attn_applied.sum(0) #20, 256\n",
    "        \n",
    "        input_lstm = torch.cat((final_attn_applied, embedded[0]), dim = 1)\n",
    "        # embedded = [1, 20, 128]=> layer 0 = [20, 128] concat = [20, 256+128]\n",
    "        \n",
    "        output, hidden = self.rnn(input_lstm.unsqueeze(0), hidden)\n",
    "        \n",
    "        final_output = self.linear_output(output.squeeze(0))\n",
    "        \n",
    "        return final_output, hidden, normalized_weights\n",
    "        "
   ]
  },
  {
   "cell_type": "code",
   "execution_count": 4,
   "id": "0f48d1ad",
   "metadata": {},
   "outputs": [],
   "source": [
    "class Attn_Enc_Dec(nn.Module):\n",
    "    def __init__(self, encoder, decoder, device):\n",
    "        super().__init__()\n",
    "        self.encoder = encoder\n",
    "        self.decoder = decoder\n",
    "        self.device = device\n",
    "\n",
    "        assert encoder.hidden_size == decoder.hidden_size, \\\n",
    "            \"Hidden dimensions of encoder and decoder must be equal!\"\n",
    "        assert encoder.n_layers == decoder.n_layers, \\\n",
    "            \"Encoder and decoder must have equal number of layers!\"\n",
    "\n",
    "    def forward(self, x, y, target_ordinal, num_target, teacher_forcing_ratio = 0.5):\n",
    "        \"\"\"\n",
    "        x = [batch, seq, feature size=11,  4] 20,15, 11, 4\n",
    "        y = [batch, seq, feature size= 1, 4]   20, 15, 5, 4\n",
    "        \n",
    "        \"\"\"\n",
    "        x = x.permute(2, 1, 0, 3) # 11, 15, 20,  4\n",
    "        y = y.permute(2, 1, 0, 3) # 5,15, 20,  4\n",
    "        batch_size = x.shape[2] #20\n",
    "        target_len = y.shape[1] #15\n",
    "        \n",
    "        total_encoder_outputs = (x.repeat(1, 1, 1, int(self.encoder.hidden_size/self.encoder.input_size)).clone())*0 \n",
    "                                                    #11, 15, 20, 256\n",
    "        neighbor_hidden = []\n",
    "        decoder_hidden =self.decoder.init_hidden\n",
    "        for i in range(len(x)): \n",
    "            total_encoder_outputs[i], hidden = self.encoder(x[i], encoder.init_hidden())\n",
    "            neighbor_hidden.append(hidden)\n",
    "            if (i == target_ordinal):\n",
    "                decoder_hidden=hidden\n",
    "       \n",
    "        \n",
    "        outputs = torch.zeros(y.shape).clone().to(self.device) #[5, 15, 20, 4]\n",
    "        \n",
    "        \n",
    "        for j in range(num_target):   \n",
    "            decoder_input = x[target_ordinal+j, -1,:, :]   #[20, 4]\n",
    "\n",
    "            for i in range(target_len):\n",
    "                output, hidden, normalized_weights = self.decoder(decoder_input, decoder_hidden, total_encoder_outputs)     \n",
    "                outputs[j][i] = output #1, 15, 20, 4\n",
    "                teacher_forcing = random.random() < teacher_forcing_ratio\n",
    "\n",
    "                    # output is the same shape as input, [batch_size, feature size]\n",
    "                    # so we can use output directly as input or use true lable depending on\n",
    "                    # teacher_forcing is true or not\n",
    "                decoder_input = y[j][i] if teacher_forcing else output\n",
    "                \n",
    "        outputs = outputs.permute(2, 1, 0, 3)\n",
    "        \n",
    "        return outputs\n"
   ]
  },
  {
   "cell_type": "code",
   "execution_count": 5,
   "id": "040b04d2",
   "metadata": {},
   "outputs": [],
   "source": [
    "# produce dataset\n",
    "class MyDataset(Dataset):\n",
    "    def __init__(self,data):\n",
    "        # --------------------------------------------\n",
    "        # Initialize paths, transforms, and so on\n",
    "        # --------------------------------------------\n",
    "        super().__init__()\n",
    "        self.data = data\n",
    "        \n",
    "\n",
    "    def __getitem__(self, index):\n",
    "        # --------------------------------------------\n",
    "        # 1. Read from file (using numpy.fromfile, PIL.Image.open)\n",
    "        # 2. Preprocess the data (torchvision.Transform).\n",
    "        # 3. Return the data (e.g. image and label)\n",
    "        # --------------------------------------------\n",
    "        \n",
    "        return self.data[index]\n",
    "        \n",
    "    def __len__(self):\n",
    "        # --------------------------------------------\n",
    "        # Indicate the total size of the dataset\n",
    "        # --------------------------------------------\n",
    "        return len(self.data)\n",
    "\n"
   ]
  },
  {
   "cell_type": "code",
   "execution_count": 6,
   "id": "4f3a2510",
   "metadata": {},
   "outputs": [
    {
     "name": "stdout",
     "output_type": "stream",
     "text": [
      "[53.11965 27.65268] [    0  5621 11154 12562 13750]\n"
     ]
    }
   ],
   "source": [
    "path = './data'\n",
    "#path = 'D:/data'\n",
    "df = pd.concat(map(pd.read_csv, glob.glob(path + \"/*.csv\")))\n",
    "game_data, flag_index = get_data(df)\n",
    "print(game_data[0], flag_index[:5])"
   ]
  },
  {
   "cell_type": "code",
   "execution_count": 7,
   "id": "d0e5b9f1",
   "metadata": {},
   "outputs": [],
   "source": [
    "source_ordinal = 0\n",
    "num_source = 11\n",
    "target_ordinal = 1\n",
    "num_target = 3\n",
    "sources, targets = get_sources_targets_short(game_data, flag_index, 15)\n",
    "s_speeds, t_speeds = get_speed_short(game_data, flag_index, 15)\n",
    "# source, target = get_source_target(sources, targets, source_ordinal,num_source,target_ordinal,num_target)\n",
    "source, target =get_with_speed(sources,s_speeds, source_ordinal,num_source,targets, t_speeds, target_ordinal,num_target )\n"
   ]
  },
  {
   "cell_type": "code",
   "execution_count": 8,
   "id": "e9347707",
   "metadata": {},
   "outputs": [
    {
     "name": "stdout",
     "output_type": "stream",
     "text": [
      "2394 torch.Size([11, 4])\n"
     ]
    }
   ],
   "source": [
    "print(len(source), source[0][0].shape)"
   ]
  },
  {
   "cell_type": "code",
   "execution_count": 9,
   "id": "90a0729a",
   "metadata": {},
   "outputs": [],
   "source": [
    "BATCH_SIZE = 20\n",
    "total = []\n",
    "for i in range(len(source)):\n",
    "    temp = (source[i], target[i])\n",
    "    total.append(temp)\n",
    "example = []\n",
    "for i in range(BATCH_SIZE):\n",
    "    temp = (source[i], target[i])\n",
    "    example.append(temp)"
   ]
  },
  {
   "cell_type": "code",
   "execution_count": 10,
   "id": "9e1477af",
   "metadata": {},
   "outputs": [],
   "source": [
    "total_data = MyDataset(total)\n",
    "ex_data =MyDataset(example)\n",
    "train_size = int(len(total_data) * 0.7)\n",
    "val_size = int(len(total_data)*0.2)\n",
    "test_size = len(total_data) - train_size - val_size\n",
    "train_data,val_data, test_data =random_split(total_data, [train_size, val_size, test_size])\n",
    "\n",
    "train_loader = DataLoader(train_data, batch_size=BATCH_SIZE, shuffle=True, drop_last = True)\n",
    "val_loader = DataLoader(val_data, batch_size=BATCH_SIZE, shuffle=False, drop_last = True)\n",
    "test_loader = DataLoader(test_data, batch_size=BATCH_SIZE, shuffle=False, drop_last = True)\n",
    "ex_loader = DataLoader(ex_data, batch_size=BATCH_SIZE, shuffle=False, drop_last = False)\n"
   ]
  },
  {
   "cell_type": "code",
   "execution_count": 11,
   "id": "7a96213e",
   "metadata": {},
   "outputs": [
    {
     "name": "stdout",
     "output_type": "stream",
     "text": [
      "torch.Size([20, 15, 11, 4]) torch.Size([20, 15, 3, 4])\n",
      "torch.Size([20, 15, 11, 4]) torch.Size([20, 15, 3, 4])\n"
     ]
    }
   ],
   "source": [
    "print(iter(train_loader).__next__()[0].shape,iter(train_loader).__next__()[1].shape )\n",
    "print(iter(ex_loader).__next__()[0].shape,iter(ex_loader).__next__()[1].shape )"
   ]
  },
  {
   "cell_type": "code",
   "execution_count": 12,
   "id": "6422de79",
   "metadata": {},
   "outputs": [],
   "source": [
    "INPUT_DIM = 4\n",
    "OUTPUT_DIM = 4\n",
    "ENC_EMB_DIM = 128\n",
    "DEC_EMB_DIM = 128\n",
    "HID_DIM = 256\n",
    "N_LAYERS = 4\n",
    "ENC_DROPOUT = 0\n",
    "DEC_DROPOUT = 0\n",
    "BIDIRECTIONAL = False\n",
    "encoder = Encoder(INPUT_DIM, ENC_EMB_DIM, HID_DIM, N_LAYERS, BIDIRECTIONAL, ENC_DROPOUT)      \n",
    "decoder = AttentionDecoder(OUTPUT_DIM, INPUT_DIM, DEC_EMB_DIM, HID_DIM, N_LAYERS, DEC_DROPOUT)\n",
    "dev = torch.device(\"cuda:0\" if torch.cuda.is_available() else \"cpu\")\n",
    "\n",
    "model = Attn_Enc_Dec(encoder, decoder, dev).to(dev)"
   ]
  },
  {
   "cell_type": "code",
   "execution_count": 13,
   "id": "2005322e",
   "metadata": {},
   "outputs": [],
   "source": [
    "def train(model, dataloader, optimizer, criterion):\n",
    "    model.train()\n",
    "    epoch_loss = 0\n",
    "    for i, (x, y) in enumerate(dataloader):\n",
    "        # put data into GPU\n",
    "        x = x.to(dev)\n",
    "        y = y.to(dev)\n",
    "        \n",
    "        # zero all param gradients\n",
    "        optimizer.zero_grad()\n",
    "        \n",
    "        # run attetion_encoding to get predictions\n",
    "        y_pred = model(x, y, target_ordinal, num_target, 0.5)\n",
    "        \n",
    "        # get loss and compute model trainable params gradients though backpropagation\n",
    "        loss = criterion(y_pred, y)\n",
    "        loss.backward()\n",
    "        \n",
    "        # update model params\n",
    "        optimizer.step()\n",
    "        \n",
    "        # add batch loss, since loss is single item tensor\n",
    "        # we can get its value by loss.item()\n",
    "        epoch_loss += loss.item()\n",
    "    return epoch_loss / len(dataloader)\n",
    "\n",
    "def evaluate(model, dataloader, criterion):\n",
    "    model.eval()\n",
    "    epoch_loss = 0\n",
    "    with torch.no_grad():\n",
    "        for i, (x, y) in enumerate(dataloader):\n",
    "            x = x.to(dev)\n",
    "            y = y.to(dev)\n",
    "            \n",
    "            # turn off teacher forcing\n",
    "            y_pred = model(x, y, target_ordinal, num_target, teacher_forcing_ratio = 0)\n",
    "            \n",
    "            loss = criterion(y_pred, y)\n",
    "            epoch_loss += loss.item()\n",
    "    return epoch_loss / len(dataloader)\n",
    "\n",
    "N_EPOCHES = 20\n",
    "best_val_loss = float('inf')\n",
    "criterion = nn.MSELoss()\n",
    "optimizer = optim.SGD(model.parameters(), lr=0.001, momentum=0.9)\n",
    "\n"
   ]
  },
  {
   "cell_type": "code",
   "execution_count": 14,
   "id": "3ec03e98",
   "metadata": {},
   "outputs": [
    {
     "name": "stdout",
     "output_type": "stream",
     "text": [
      "successfully load previous best model parameters\n"
     ]
    }
   ],
   "source": [
    "# load previous best model params if exists\n",
    "model_dir = \"saved_models/attention\"\n",
    "saved_model_path = model_dir + \"/best_attention_11_3_speed.pt\"\n",
    "if os.path.isfile(saved_model_path):\n",
    "    model.load_state_dict(torch.load(saved_model_path))\n",
    "    print(\"successfully load previous best model parameters\")\n",
    "\n"
   ]
  },
  {
   "cell_type": "code",
   "execution_count": 15,
   "id": "f03d3873",
   "metadata": {},
   "outputs": [],
   "source": [
    "%load_ext tensorboard\n",
    "writer = SummaryWriter()"
   ]
  },
  {
   "cell_type": "code",
   "execution_count": 16,
   "id": "7e7be014",
   "metadata": {},
   "outputs": [
    {
     "name": "stdout",
     "output_type": "stream",
     "text": [
      "Epoch: 01 | Time:  1205.3216474056244s\n",
      "\tTrain Loss: 75.597\n",
      "\t Val Loss: 78.040\n",
      "Epoch: 02 | Time:  1154.0935022830963s\n",
      "\tTrain Loss: 69.480\n",
      "\t Val Loss: 76.112\n",
      "Epoch: 03 | Time:  1100.226919412613s\n",
      "\tTrain Loss: 94.934\n",
      "\t Val Loss: 117.411\n",
      "Epoch: 04 | Time:  1099.100618839264s\n",
      "\tTrain Loss: 90.157\n",
      "\t Val Loss: 82.658\n",
      "Epoch: 05 | Time:  1100.6126687526703s\n",
      "\tTrain Loss: 80.523\n",
      "\t Val Loss: 104.411\n",
      "Epoch: 06 | Time:  1097.240463733673s\n",
      "\tTrain Loss: 90.122\n",
      "\t Val Loss: 130.384\n",
      "Epoch: 07 | Time:  1096.4456350803375s\n",
      "\tTrain Loss: 74.285\n",
      "\t Val Loss: 99.015\n",
      "Epoch: 08 | Time:  1096.9986896514893s\n",
      "\tTrain Loss: 78.710\n",
      "\t Val Loss: 101.105\n",
      "Epoch: 09 | Time:  1096.7814173698425s\n",
      "\tTrain Loss: 75.316\n",
      "\t Val Loss: 89.810\n",
      "Epoch: 10 | Time:  1091.5130732059479s\n",
      "\tTrain Loss: 77.263\n",
      "\t Val Loss: 78.244\n",
      "Epoch: 11 | Time:  1093.5724544525146s\n",
      "\tTrain Loss: 68.652\n",
      "\t Val Loss: 97.933\n",
      "Epoch: 12 | Time:  1096.9302244186401s\n",
      "\tTrain Loss: 72.017\n",
      "\t Val Loss: 87.763\n",
      "Epoch: 13 | Time:  1094.8687493801117s\n",
      "\tTrain Loss: 71.796\n",
      "\t Val Loss: 105.074\n",
      "Epoch: 14 | Time:  1090.3961427211761s\n",
      "\tTrain Loss: 83.848\n",
      "\t Val Loss: 87.029\n",
      "Epoch: 15 | Time:  1091.2414197921753s\n",
      "\tTrain Loss: 92.883\n",
      "\t Val Loss: 81.348\n",
      "Epoch: 16 | Time:  1095.1275806427002s\n",
      "\tTrain Loss: 70.944\n",
      "\t Val Loss: 106.946\n",
      "Epoch: 17 | Time:  1093.3351337909698s\n",
      "\tTrain Loss: 63.882\n",
      "\t Val Loss: 63.369\n",
      "Epoch: 18 | Time:  1096.6319615840912s\n",
      "\tTrain Loss: 64.068\n",
      "\t Val Loss: 104.107\n",
      "Epoch: 19 | Time:  1092.6070566177368s\n",
      "\tTrain Loss: 70.700\n",
      "\t Val Loss: 78.319\n",
      "Epoch: 20 | Time:  1088.9486417770386s\n",
      "\tTrain Loss: 65.944\n",
      "\t Val Loss: 65.568\n"
     ]
    }
   ],
   "source": [
    "for epoch in range(N_EPOCHES):\n",
    "    \n",
    "    start_time = time.time()\n",
    "    train_loss = train(model, train_loader, optimizer, criterion)\n",
    "    val_loss = evaluate(model, val_loader, criterion)\n",
    "    end_time = time.time()\n",
    "    secs = end_time - start_time\n",
    "    \n",
    "    print(F'Epoch: {epoch+1:02} | Time:  {secs}s')\n",
    "    print(F'\\tTrain Loss: {train_loss:.3f}')\n",
    "    print(F'\\t Val Loss: {val_loss:.3f}')\n",
    "    writer.add_scalar('Loss/train', train_loss, epoch)\n",
    "    writer.add_scalar('Loss/val', val_loss,epoch)\n",
    "   \n",
    "   \n",
    "   \n",
    "\n",
    "    if val_loss < best_val_loss:\n",
    "        os.makedirs(model_dir, exist_ok=True)\n",
    "        torch.save(model.state_dict(), saved_model_path)\n",
    "writer.close()"
   ]
  },
  {
   "cell_type": "code",
   "execution_count": 17,
   "id": "365d2657",
   "metadata": {},
   "outputs": [
    {
     "name": "stdout",
     "output_type": "stream",
     "text": [
      "| Test Loss: 62.340\n"
     ]
    }
   ],
   "source": [
    "test_loss = evaluate(model, test_loader, criterion)\n",
    "print(f'| Test Loss: {test_loss:.3f}')\n",
    "#  | Test PPL: {math.exp(round(test_loss, 3)):7.3f} |')"
   ]
  },
  {
   "cell_type": "code",
   "execution_count": 18,
   "id": "186fed22",
   "metadata": {},
   "outputs": [
    {
     "data": {
      "text/plain": [
       "<Figure size 432x288 with 0 Axes>"
      ]
     },
     "metadata": {},
     "output_type": "display_data"
    },
    {
     "data": {
      "image/png": "[encoded data removed]",
      "text/plain": [
       "<Figure size 432x288 with 2 Axes>"
      ]
     },
     "metadata": {
      "needs_background": "light"
     },
     "output_type": "display_data"
    }
   ],
   "source": [
    "scenes = 2\n",
    "plt.clf()\n",
    "fig, axs = plt.subplots(scenes,sharex=True, sharey=True )\n",
    "plt.axis([0, 90, 0, 40])\n",
    "fig.suptitle('Attention Model-- 10 players + 1 ball to predict 3 player')\n",
    "p, q = iter(ex_loader).__next__()  # p [20, 15, 11, 4] q [20, 15, 3, 4]\n",
    "r = model(p, q, target_ordinal, num_target).detach()  #r [20, 15, 3, 4]\n",
    "p_= p.permute(0, 2, 1, 3) #20, 11, 15, 4\n",
    "q_= q.permute(0, 2, 1, 3) \n",
    "r_= r.permute(0, 2, 1, 3)\n",
    "for j in range(scenes):\n",
    "    for i in range(len(p_[j])):\n",
    "        if (i >= target_ordinal and i < target_ordinal + num_target):\n",
    "            axs[j].plot(p_[j][i][:, 0], p_[j][i][:, 1], 'ro', linewidth=0.5, label = \"source\")\n",
    "          \n",
    "        axs[j].plot(p_[j][i][:, 0], p_[j][i][:, 1], color = \"red\", label =\"ref\", )\n",
    "    for i in range(len(q_[j])):\n",
    "        axs[j].plot(q_[j][i][:, 0], q_[j][i][:, 1], \"bx\", linewidth = 0.2, label = \"target\")\n",
    "        axs[j].plot(r_[j][i][:, 0], r_[j][i][:, 1], \"gx\", linewidth = 0.2, label = \"predict\")\n",
    "\n",
    "plt.show()"
   ]
  },
  {
   "cell_type": "code",
   "execution_count": 19,
   "id": "6e773588",
   "metadata": {},
   "outputs": [],
   "source": [
    "# !tensorboard --logdir=runs"
   ]
  },
  {
   "cell_type": "code",
   "execution_count": null,
   "id": "fd40bc9e",
   "metadata": {},
   "outputs": [],
   "source": [
    "s_ = q_"
   ]
  }
 ],
 "metadata": {
  "kernelspec": {
   "display_name": "Python 3 (ipykernel)",
   "language": "python",
   "name": "python3"
  },
  "language_info": {
   "codemirror_mode": {
    "name": "ipython",
    "version": 3
   },
   "file_extension": ".py",
   "mimetype": "text/x-python",
   "name": "python",
   "nbconvert_exporter": "python",
   "pygments_lexer": "ipython3",
   "version": "3.9.7"
  }
 },
 "nbformat": 4,
 "nbformat_minor": 5
}
