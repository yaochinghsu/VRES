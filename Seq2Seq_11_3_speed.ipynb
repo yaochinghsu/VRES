{
 "cells": [
  {
   "cell_type": "code",
   "execution_count": 1,
   "id": "d459a2f7",
   "metadata": {},
   "outputs": [],
   "source": [
    "import pandas as pd\n",
    "import numpy as np\n",
    "import torch\n",
    "import torch.nn as nn\n",
    "import torch.optim as optim\n",
    "import torch.nn.functional as F\n",
    "import os\n",
    "import time\n",
    "import random\n",
    "import matplotlib.pyplot as plt\n",
    "import math\n",
    "import glob\n",
    "from torch.utils.tensorboard import SummaryWriter\n",
    "from torch.utils.data import Dataset, DataLoader, random_split\n",
    "from torch.nn.utils.rnn import pad_sequence,pack_padded_sequence,pack_sequence,pad_packed_sequence\n",
    "from data_processing import get_data, get_sources_targets_short, get_source_target, get_speed_short, get_with_speed"
   ]
  },
  {
   "cell_type": "code",
   "execution_count": 2,
   "id": "c48eeac5",
   "metadata": {},
   "outputs": [],
   "source": [
    "class Encoder(nn.Module):\n",
    "    def __init__(self,\n",
    "                 input_size = 4,\n",
    "                 embedding_size = 128,\n",
    "                 hidden_size = 256,\n",
    "                 n_layers = 4,\n",
    "                 dropout = 0.5):\n",
    "        super().__init__()\n",
    "        self.hidden_size = hidden_size\n",
    "        self.n_layers = n_layers\n",
    "        self.linear = nn.Linear(input_size, embedding_size)\n",
    "        self.rnn = nn.LSTM(embedding_size, hidden_size, n_layers,\n",
    "                           dropout = dropout)\n",
    "        self.dropout = nn.Dropout(dropout)\n",
    "\n",
    "    def forward(self, x, hidden):\n",
    "        \"\"\"\n",
    "        x: input batch data, size: [sequence len, batch size, feature size] #15 20 4\n",
    "        \"\"\"\n",
    "        # embedded: [sequence len, batch size, embedding size]\n",
    "        embedded = self.dropout(F.relu(self.linear(x))) #[100, 20, 128]\n",
    "        # you can checkout https://pytorch.org/docs/stable/nn.html?highlight=lstm#torch.nn.LSTM\n",
    "        # for details of the return tensor\n",
    "        # briefly speaking, output coontains the output of last layer for each time step\n",
    "        # hidden and cell contains the last time step hidden and cell state of each layer\n",
    "        # we only use hidden and cell as context to feed into decoder\n",
    "        output, hidden = self.rnn(embedded, hidden) # hidden = [4, 20, 256]\n",
    "        # hidden = [n layers * n directions, batch size, hidden size]\n",
    "        # cell = [n layers * n directions, batch size, hidden size]\n",
    "        # the n direction is 1 since we are not using bidirectional RNNs\n",
    "        return hidden\n",
    "    def init_hidden(self):\n",
    "        return (torch.zeros(self.n_layers, BATCH_SIZE, self.hidden_size),\n",
    "                torch.zeros(self.n_layers, BATCH_SIZE, self.hidden_size))"
   ]
  },
  {
   "cell_type": "code",
   "execution_count": 3,
   "id": "f9d661b0",
   "metadata": {},
   "outputs": [],
   "source": [
    "class Decoder(nn.Module):\n",
    "    def __init__(self,\n",
    "                 output_size = 4,\n",
    "                 embedding_size = 128,\n",
    "                 hidden_size = 256,\n",
    "                 n_layers = 4,\n",
    "                 dropout = 0.5):\n",
    "        super().__init__()\n",
    "        self.output_size = output_size\n",
    "        self.hidden_size = hidden_size\n",
    "        self.n_layers = n_layers\n",
    "\n",
    "        self.embedding = nn.Linear(output_size, embedding_size)\n",
    "        self.rnn = nn.LSTM(embedding_size, hidden_size, n_layers, dropout = dropout)\n",
    "        self.linear = nn.Linear(hidden_size, output_size)\n",
    "        self.dropout = nn.Dropout(dropout)\n",
    "\n",
    "    def forward(self, x, hidden):\n",
    "        \"\"\"\n",
    "        x : input batch data, size(x): [batch size, feature size]\n",
    "        notice x only has two dimensions since the input is batchs\n",
    "        of last coordinate of observed trajectory\n",
    "        so the sequence length has been removed.\n",
    "        \"\"\"\n",
    "        # add sequence dimension to x, to allow use of nn.LSTM\n",
    "        # after this, size(x) will be [1, batch size, feature size]\n",
    "        x = x.unsqueeze(0)\n",
    "\n",
    "        # embedded = [1, batch size, embedding size]\n",
    "        embedded = self.dropout(F.relu(self.embedding(x)))\n",
    "            \n",
    "        #output = [seq len, batch size, hid dim * n directions]\n",
    "        #hidden = ([n layers * n directions, batch size, hid dim], [n layers * n directions, batch size, hid dim])\n",
    "        \n",
    "        #seq len and n directions will always be 1 in the decoder, therefore:\n",
    "        #output = [1, batch size, hidden size]\n",
    "        #hidden = ([n layers, batch size, hidden size], [n layers, batch size, hidden size])\n",
    "        output, hidden = self.rnn(embedded,hidden)\n",
    "\n",
    "        # prediction = [batch size, output size]\n",
    "        prediction = self.linear(output.squeeze(0))\n",
    "\n",
    "        return prediction, hidden"
   ]
  },
  {
   "cell_type": "code",
   "execution_count": 4,
   "id": "4a72427d",
   "metadata": {},
   "outputs": [],
   "source": [
    "class Seq2Seq(nn.Module):\n",
    "    def __init__(self, encoder, decoder, device):\n",
    "        super().__init__()\n",
    "        self.encoder = encoder\n",
    "        self.decoder = decoder\n",
    "        self.device = device\n",
    "        self.attn = nn.Linear(self.encoder.hidden_size*2, 1)\n",
    "        assert encoder.hidden_size == decoder.hidden_size, \\\n",
    "            \"Hidden dimensions of encoder and decoder must be equal!\"\n",
    "        assert encoder.n_layers == decoder.n_layers, \\\n",
    "            \"Encoder and decoder must have equal number of layers!\"\n",
    "\n",
    "    def forward(self, x, y, target_ordinal =1, num_target = 5,  teacher_forcing_ratio = 0.5):\n",
    "        \"\"\"\n",
    "         x = [batch size, seq len, feature size] 20,15,11,2  \n",
    "         y = [20, 15, 3, 2]\n",
    "        \"\"\"\n",
    "        x = x.permute(2, 1, 0, 3)  #11, 15, 20, 4\n",
    "        y = y.permute(2, 1, 0, 3)  #3, 15, 20, 4\n",
    "        outputs = torch.zeros(y.shape).to(self.device) # 3, 15, 20, 4\n",
    "        \n",
    "        batch_size = x.shape[2]\n",
    "        ref_size = x.shape[0]\n",
    "        target_len = y.shape[1]\n",
    "        \n",
    "        total_h = []\n",
    "        total_c = []\n",
    "        for each_x in x:\n",
    "            \n",
    "            hidden = self.encoder(each_x, self.encoder.init_hidden()) #[4, 20, 256]*2\n",
    "            total_h.append(hidden[0].unsqueeze(0))\n",
    "            total_c.append(hidden[1].unsqueeze(0))\n",
    "        total_hidden= (torch.cat(total_h, dim = 0), torch.cat(total_c, dim = 0))#([11,4, 20,256], [11, 4, 20, 256])\n",
    "        \n",
    "        for j in range(num_target) : #3\n",
    "            \n",
    "            # first input to decoder is last coordinates of x\n",
    "            decoder_input = x[target_ordinal+j, -1, :, :] \n",
    "            hidden_h = total_hidden[0][target_ordinal+j].clone() #[4, 20, 256] \n",
    "            hidden_c = total_hidden[1][target_ordinal+j].clone()\n",
    "            \n",
    "            weights = []\n",
    "            \n",
    "            for neighbor_hidden in total_hidden[0]:  #neighbor_hidden =[4, 20, 256]\n",
    "                weights.append(self.attn(torch.cat((hidden_h[0], neighbor_hidden[0]), dim = 1)))  #each weight = [ 20, 1]\n",
    "            normalized_weights = F.softmax(torch.cat(weights, 1), 1) #[20,11]\n",
    "                \n",
    "               \n",
    "            for i in range(self.decoder.n_layers):\n",
    "                hidden_h[i] = torch.bmm(normalized_weights.unsqueeze(1), total_hidden[0].permute(1, 2, 0, 3)[i]).permute(1, 0, 2)\n",
    "                hidden_c[i] = torch.bmm(normalized_weights.unsqueeze(1), total_hidden[1].permute(1, 2, 0, 3)[i]).permute(1, 0, 2)\n",
    "                   #[20,1, 11]dot[20, 11, 256] = [20, 1, 256] =>[1, 20, 256] =>[4, 20, 256]   \n",
    "            \n",
    "            new_hidden = (hidden_h, hidden_c)\n",
    "            \n",
    "            for i in range(target_len): #15\n",
    "                # run decode for one time step\n",
    "                \n",
    "                output, hidden = self.decoder(decoder_input, new_hidden)\n",
    "\n",
    "                # place predictions in a tensor holding predictions for each time step\n",
    "                \n",
    "                outputs[j][i] = output\n",
    "\n",
    "                # decide if we are going to use teacher forcing or not\n",
    "                teacher_forcing = random.random() < teacher_forcing_ratio\n",
    "\n",
    "                # output is the same shape as input, [batch_size, feature size]\n",
    "                # so we can use output directly as input or use true lable depending on\n",
    "                # teacher_forcing is true or not\n",
    "                decoder_input = y[j][i] if teacher_forcing else output\n",
    "        outputs = outputs.permute(2,1, 0, 3) #5, 15, 20, 4=> 20, 15, 5, 2\n",
    "      \n",
    "        return outputs"
   ]
  },
  {
   "cell_type": "code",
   "execution_count": 5,
   "id": "ac9974fd",
   "metadata": {},
   "outputs": [],
   "source": [
    "# produce dataset\n",
    "class MyDataset(Dataset):\n",
    "    def __init__(self,data):\n",
    "        # --------------------------------------------\n",
    "        # Initialize paths, transforms, and so on\n",
    "        # --------------------------------------------\n",
    "        super().__init__()\n",
    "        self.data = data\n",
    "        \n",
    "\n",
    "    def __getitem__(self, index):\n",
    "        # --------------------------------------------\n",
    "        # 1. Read from file (using numpy.fromfile, PIL.Image.open)\n",
    "        # 2. Preprocess the data (torchvision.Transform).\n",
    "        # 3. Return the data (e.g. image and label)\n",
    "        # --------------------------------------------\n",
    "        \n",
    "        return self.data[index]\n",
    "        \n",
    "    def __len__(self):\n",
    "        # --------------------------------------------\n",
    "        # Indicate the total size of the dataset\n",
    "        # --------------------------------------------\n",
    "        return len(self.data)\n",
    "\n"
   ]
  },
  {
   "cell_type": "code",
   "execution_count": 6,
   "id": "06ff6ba4",
   "metadata": {},
   "outputs": [
    {
     "name": "stdout",
     "output_type": "stream",
     "text": [
      "[53.11965 27.65268] [    0  5621 11154 12562 13750]\n"
     ]
    }
   ],
   "source": [
    "path = './data'\n",
    "df = pd.concat(map(pd.read_csv, glob.glob(path + \"/*.csv\")))\n",
    "game_data, flag_index = get_data(df)\n",
    "print(game_data[0], flag_index[:5])"
   ]
  },
  {
   "cell_type": "code",
   "execution_count": 7,
   "id": "31119b15",
   "metadata": {},
   "outputs": [],
   "source": [
    "source_ordinal = 0\n",
    "num_source = 11\n",
    "target_ordinal = 1\n",
    "num_target = 3\n",
    "sources, targets = get_sources_targets_short(game_data, flag_index, 15)\n",
    "s_speeds, t_speeds = get_speed_short(game_data, flag_index, 15)\n",
    "# source, target = get_source_target(sources, targets, source_ordinal,num_source,target_ordinal,num_target)\n",
    "source, target =get_with_speed(sources,s_speeds, source_ordinal,num_source,targets, t_speeds, target_ordinal,num_target )\n"
   ]
  },
  {
   "cell_type": "code",
   "execution_count": 8,
   "id": "0148b1e0",
   "metadata": {},
   "outputs": [],
   "source": [
    "BATCH_SIZE = 20\n",
    "total = []\n",
    "for i in range(len(source)):\n",
    "    temp = (source[i], target[i])\n",
    "    total.append(temp)\n",
    "example = []\n",
    "for i in range(BATCH_SIZE):\n",
    "    temp = (source[i], target[i])\n",
    "    example.append(temp)"
   ]
  },
  {
   "cell_type": "code",
   "execution_count": 9,
   "id": "d2645fdc",
   "metadata": {},
   "outputs": [],
   "source": [
    "total_data = MyDataset(total)\n",
    "ex_data =MyDataset(example)\n",
    "train_size = int(len(total_data) * 0.7)\n",
    "val_size = int(len(total_data)*0.2)\n",
    "test_size = len(total_data) - train_size - val_size\n",
    "train_data,val_data, test_data =random_split(total_data, [train_size, val_size, test_size])\n",
    "\n",
    "train_loader = DataLoader(train_data, batch_size=BATCH_SIZE, shuffle=True, drop_last = True)\n",
    "val_loader = DataLoader(val_data, batch_size=BATCH_SIZE, shuffle=False, drop_last = True)\n",
    "test_loader = DataLoader(test_data, batch_size=BATCH_SIZE, shuffle=False, drop_last = True)\n",
    "ex_loader = DataLoader(ex_data, batch_size=BATCH_SIZE, shuffle=False, drop_last = False)\n"
   ]
  },
  {
   "cell_type": "code",
   "execution_count": 10,
   "id": "204c74d9",
   "metadata": {},
   "outputs": [
    {
     "name": "stdout",
     "output_type": "stream",
     "text": [
      "torch.Size([20, 15, 11, 4]) torch.Size([20, 15, 3, 4])\n",
      "torch.Size([20, 15, 11, 4]) torch.Size([20, 15, 3, 4])\n"
     ]
    }
   ],
   "source": [
    "print(iter(train_loader).__next__()[0].shape,iter(train_loader).__next__()[1].shape )\n",
    "print(iter(ex_loader).__next__()[0].shape,iter(ex_loader).__next__()[1].shape )"
   ]
  },
  {
   "cell_type": "code",
   "execution_count": 11,
   "id": "3271b77e",
   "metadata": {},
   "outputs": [],
   "source": [
    "INPUT_DIM = 4\n",
    "OUTPUT_DIM = 4\n",
    "ENC_EMB_DIM = 128\n",
    "DEC_EMB_DIM = 128\n",
    "HID_DIM = 256\n",
    "N_LAYERS = 4\n",
    "ENC_DROPOUT = 0.5\n",
    "DEC_DROPOUT = 0.5\n",
    "\n",
    "enc = Encoder(INPUT_DIM, ENC_EMB_DIM, HID_DIM, N_LAYERS, ENC_DROPOUT)\n",
    "dec = Decoder(OUTPUT_DIM, DEC_EMB_DIM, HID_DIM, N_LAYERS, DEC_DROPOUT)\n",
    "dev = torch.device(\"cuda:0\" if torch.cuda.is_available() else \"cpu\")\n",
    "\n",
    "model = Seq2Seq(enc, dec, dev).to(dev)"
   ]
  },
  {
   "cell_type": "code",
   "execution_count": 12,
   "id": "c1160de3",
   "metadata": {},
   "outputs": [],
   "source": [
    "def train(model, dataloader, optimizer, criterion):\n",
    "    model.train()\n",
    "    epoch_loss = 0\n",
    "    for i, (x, y) in enumerate(dataloader):\n",
    "        # put data into GPU\n",
    "        \n",
    "        x = x.to(dev)\n",
    "        y = y.to(dev)\n",
    "        \n",
    "        # zero all param gradients\n",
    "        optimizer.zero_grad()\n",
    "        \n",
    "        # run seq2seq to get predictions\n",
    "        y_pred = model(x, y,target_ordinal, num_target, 0.5)\n",
    "#         plt.plot(y_pred[:,0], y_pred[:, 1], color = 'tab:greem')\n",
    "\n",
    "        \n",
    "        # get loss and compute model trainable params gradients though backpropagation\n",
    "        loss = criterion(y_pred, y)\n",
    "        loss.backward()\n",
    "        \n",
    "        # update model params\n",
    "        optimizer.step()\n",
    "        \n",
    "        # add batch loss, since loss is single item tensor\n",
    "        # we can get its value by loss.item()\n",
    "        epoch_loss += loss.item()\n",
    "    return epoch_loss / len(dataloader)\n",
    "\n",
    "\n"
   ]
  },
  {
   "cell_type": "code",
   "execution_count": 13,
   "id": "20a3aea5",
   "metadata": {},
   "outputs": [],
   "source": [
    "def evaluate(model, dataloader, criterion):\n",
    "    model.eval()\n",
    "    epoch_loss = 0\n",
    "    with torch.no_grad():\n",
    "        for i, (x, y) in enumerate(dataloader):\n",
    "            x = x.to(dev)\n",
    "            y = y.to(dev)\n",
    "            \n",
    "            # turn off teacher forcing\n",
    "            y_pred = model(x, y, target_ordinal, num_target, 0)\n",
    "            loss = criterion(y_pred, y)\n",
    "            epoch_loss += loss.item()\n",
    "    return epoch_loss / len(dataloader)\n"
   ]
  },
  {
   "cell_type": "code",
   "execution_count": 14,
   "id": "a57a8d20",
   "metadata": {},
   "outputs": [],
   "source": [
    "N_EPOCHES = 20\n",
    "best_val_loss = float('inf')\n",
    "criterion = nn.MSELoss()\n",
    "optimizer = optim.SGD(model.parameters(), lr=0.001, momentum=0.9)\n",
    "\n"
   ]
  },
  {
   "cell_type": "code",
   "execution_count": 15,
   "id": "60ea384e",
   "metadata": {},
   "outputs": [
    {
     "name": "stdout",
     "output_type": "stream",
     "text": [
      "successfully load previous best model parameters\n"
     ]
    }
   ],
   "source": [
    "# load previous best model params if exists\n",
    "model_dir = \"saved_models/Seq2Seq\"\n",
    "saved_model_path = model_dir + \"/best_11_3_speed.pt\"\n",
    "if os.path.isfile(saved_model_path):\n",
    "    model.load_state_dict(torch.load(saved_model_path))\n",
    "    print(\"successfully load previous best model parameters\")\n",
    "    \n"
   ]
  },
  {
   "cell_type": "code",
   "execution_count": 16,
   "id": "67bd734d",
   "metadata": {},
   "outputs": [],
   "source": [
    "%load_ext tensorboard\n",
    "writer = SummaryWriter()"
   ]
  },
  {
   "cell_type": "code",
   "execution_count": 21,
   "id": "714e3c55",
   "metadata": {
    "scrolled": true
   },
   "outputs": [
    {
     "name": "stdout",
     "output_type": "stream",
     "text": [
      "Epoch: 01 | Time:  135.30418229103088s\n",
      "\tTrain Loss: 73.662\n",
      "\t Val Loss: 78.960\n",
      "Epoch: 02 | Time:  136.1543152332306s\n",
      "\tTrain Loss: 68.162\n",
      "\t Val Loss: 66.336\n",
      "Epoch: 03 | Time:  135.65430569648743s\n",
      "\tTrain Loss: 67.404\n",
      "\t Val Loss: 66.515\n",
      "Epoch: 04 | Time:  137.0430929660797s\n",
      "\tTrain Loss: 66.519\n",
      "\t Val Loss: 70.201\n",
      "Epoch: 05 | Time:  137.04174900054932s\n",
      "\tTrain Loss: 65.270\n",
      "\t Val Loss: 69.413\n",
      "Epoch: 06 | Time:  137.7270474433899s\n",
      "\tTrain Loss: 70.734\n",
      "\t Val Loss: 67.236\n"
     ]
    },
    {
     "ename": "KeyboardInterrupt",
     "evalue": "",
     "output_type": "error",
     "traceback": [
      "\u001b[1;31m---------------------------------------------------------------------------\u001b[0m",
      "\u001b[1;31mKeyboardInterrupt\u001b[0m                         Traceback (most recent call last)",
      "\u001b[1;32m~\\AppData\\Local\\Temp/ipykernel_12440/1545000325.py\u001b[0m in \u001b[0;36m<module>\u001b[1;34m\u001b[0m\n\u001b[0;32m      2\u001b[0m \u001b[1;33m\u001b[0m\u001b[0m\n\u001b[0;32m      3\u001b[0m     \u001b[0mstart_time\u001b[0m \u001b[1;33m=\u001b[0m \u001b[0mtime\u001b[0m\u001b[1;33m.\u001b[0m\u001b[0mtime\u001b[0m\u001b[1;33m(\u001b[0m\u001b[1;33m)\u001b[0m\u001b[1;33m\u001b[0m\u001b[1;33m\u001b[0m\u001b[0m\n\u001b[1;32m----> 4\u001b[1;33m     \u001b[0mtrain_loss\u001b[0m \u001b[1;33m=\u001b[0m \u001b[0mtrain\u001b[0m\u001b[1;33m(\u001b[0m\u001b[0mmodel\u001b[0m\u001b[1;33m,\u001b[0m \u001b[0mtrain_loader\u001b[0m\u001b[1;33m,\u001b[0m \u001b[0moptimizer\u001b[0m\u001b[1;33m,\u001b[0m \u001b[0mcriterion\u001b[0m\u001b[1;33m)\u001b[0m\u001b[1;33m\u001b[0m\u001b[1;33m\u001b[0m\u001b[0m\n\u001b[0m\u001b[0;32m      5\u001b[0m     \u001b[0mval_loss\u001b[0m \u001b[1;33m=\u001b[0m \u001b[0mevaluate\u001b[0m\u001b[1;33m(\u001b[0m\u001b[0mmodel\u001b[0m\u001b[1;33m,\u001b[0m \u001b[0mval_loader\u001b[0m\u001b[1;33m,\u001b[0m \u001b[0mcriterion\u001b[0m\u001b[1;33m)\u001b[0m\u001b[1;33m\u001b[0m\u001b[1;33m\u001b[0m\u001b[0m\n\u001b[0;32m      6\u001b[0m     \u001b[0mend_time\u001b[0m \u001b[1;33m=\u001b[0m \u001b[0mtime\u001b[0m\u001b[1;33m.\u001b[0m\u001b[0mtime\u001b[0m\u001b[1;33m(\u001b[0m\u001b[1;33m)\u001b[0m\u001b[1;33m\u001b[0m\u001b[1;33m\u001b[0m\u001b[0m\n",
      "\u001b[1;32m~\\AppData\\Local\\Temp/ipykernel_12440/2937028844.py\u001b[0m in \u001b[0;36mtrain\u001b[1;34m(model, dataloader, optimizer, criterion)\u001b[0m\n\u001b[0;32m     12\u001b[0m \u001b[1;33m\u001b[0m\u001b[0m\n\u001b[0;32m     13\u001b[0m         \u001b[1;31m# run seq2seq to get predictions\u001b[0m\u001b[1;33m\u001b[0m\u001b[1;33m\u001b[0m\u001b[0m\n\u001b[1;32m---> 14\u001b[1;33m         \u001b[0my_pred\u001b[0m \u001b[1;33m=\u001b[0m \u001b[0mmodel\u001b[0m\u001b[1;33m(\u001b[0m\u001b[0mx\u001b[0m\u001b[1;33m,\u001b[0m \u001b[0my\u001b[0m\u001b[1;33m,\u001b[0m\u001b[0mtarget_ordinal\u001b[0m\u001b[1;33m,\u001b[0m \u001b[0mnum_target\u001b[0m\u001b[1;33m,\u001b[0m \u001b[1;36m0.5\u001b[0m\u001b[1;33m)\u001b[0m\u001b[1;33m\u001b[0m\u001b[1;33m\u001b[0m\u001b[0m\n\u001b[0m\u001b[0;32m     15\u001b[0m \u001b[1;31m#         plt.plot(y_pred[:,0], y_pred[:, 1], color = 'tab:greem')\u001b[0m\u001b[1;33m\u001b[0m\u001b[1;33m\u001b[0m\u001b[0m\n\u001b[0;32m     16\u001b[0m \u001b[1;33m\u001b[0m\u001b[0m\n",
      "\u001b[1;32m~\\Anaconda3\\lib\\site-packages\\torch\\nn\\modules\\module.py\u001b[0m in \u001b[0;36m_call_impl\u001b[1;34m(self, *input, **kwargs)\u001b[0m\n\u001b[0;32m   1100\u001b[0m         if not (self._backward_hooks or self._forward_hooks or self._forward_pre_hooks or _global_backward_hooks\n\u001b[0;32m   1101\u001b[0m                 or _global_forward_hooks or _global_forward_pre_hooks):\n\u001b[1;32m-> 1102\u001b[1;33m             \u001b[1;32mreturn\u001b[0m \u001b[0mforward_call\u001b[0m\u001b[1;33m(\u001b[0m\u001b[1;33m*\u001b[0m\u001b[0minput\u001b[0m\u001b[1;33m,\u001b[0m \u001b[1;33m**\u001b[0m\u001b[0mkwargs\u001b[0m\u001b[1;33m)\u001b[0m\u001b[1;33m\u001b[0m\u001b[1;33m\u001b[0m\u001b[0m\n\u001b[0m\u001b[0;32m   1103\u001b[0m         \u001b[1;31m# Do not call functions when jit is used\u001b[0m\u001b[1;33m\u001b[0m\u001b[1;33m\u001b[0m\u001b[0m\n\u001b[0;32m   1104\u001b[0m         \u001b[0mfull_backward_hooks\u001b[0m\u001b[1;33m,\u001b[0m \u001b[0mnon_full_backward_hooks\u001b[0m \u001b[1;33m=\u001b[0m \u001b[1;33m[\u001b[0m\u001b[1;33m]\u001b[0m\u001b[1;33m,\u001b[0m \u001b[1;33m[\u001b[0m\u001b[1;33m]\u001b[0m\u001b[1;33m\u001b[0m\u001b[1;33m\u001b[0m\u001b[0m\n",
      "\u001b[1;32m~\\AppData\\Local\\Temp/ipykernel_12440/772723363.py\u001b[0m in \u001b[0;36mforward\u001b[1;34m(self, x, y, target_ordinal, num_target, teacher_forcing_ratio)\u001b[0m\n\u001b[0;32m     28\u001b[0m         \u001b[1;32mfor\u001b[0m \u001b[0meach_x\u001b[0m \u001b[1;32min\u001b[0m \u001b[0mx\u001b[0m\u001b[1;33m:\u001b[0m\u001b[1;33m\u001b[0m\u001b[1;33m\u001b[0m\u001b[0m\n\u001b[0;32m     29\u001b[0m \u001b[1;33m\u001b[0m\u001b[0m\n\u001b[1;32m---> 30\u001b[1;33m             \u001b[0mhidden\u001b[0m \u001b[1;33m=\u001b[0m \u001b[0mself\u001b[0m\u001b[1;33m.\u001b[0m\u001b[0mencoder\u001b[0m\u001b[1;33m(\u001b[0m\u001b[0meach_x\u001b[0m\u001b[1;33m,\u001b[0m \u001b[0mself\u001b[0m\u001b[1;33m.\u001b[0m\u001b[0mencoder\u001b[0m\u001b[1;33m.\u001b[0m\u001b[0minit_hidden\u001b[0m\u001b[1;33m(\u001b[0m\u001b[1;33m)\u001b[0m\u001b[1;33m)\u001b[0m \u001b[1;31m#[4, 20, 256]*2\u001b[0m\u001b[1;33m\u001b[0m\u001b[1;33m\u001b[0m\u001b[0m\n\u001b[0m\u001b[0;32m     31\u001b[0m             \u001b[0mtotal_h\u001b[0m\u001b[1;33m.\u001b[0m\u001b[0mappend\u001b[0m\u001b[1;33m(\u001b[0m\u001b[0mhidden\u001b[0m\u001b[1;33m[\u001b[0m\u001b[1;36m0\u001b[0m\u001b[1;33m]\u001b[0m\u001b[1;33m.\u001b[0m\u001b[0munsqueeze\u001b[0m\u001b[1;33m(\u001b[0m\u001b[1;36m0\u001b[0m\u001b[1;33m)\u001b[0m\u001b[1;33m)\u001b[0m\u001b[1;33m\u001b[0m\u001b[1;33m\u001b[0m\u001b[0m\n\u001b[0;32m     32\u001b[0m             \u001b[0mtotal_c\u001b[0m\u001b[1;33m.\u001b[0m\u001b[0mappend\u001b[0m\u001b[1;33m(\u001b[0m\u001b[0mhidden\u001b[0m\u001b[1;33m[\u001b[0m\u001b[1;36m1\u001b[0m\u001b[1;33m]\u001b[0m\u001b[1;33m.\u001b[0m\u001b[0munsqueeze\u001b[0m\u001b[1;33m(\u001b[0m\u001b[1;36m0\u001b[0m\u001b[1;33m)\u001b[0m\u001b[1;33m)\u001b[0m\u001b[1;33m\u001b[0m\u001b[1;33m\u001b[0m\u001b[0m\n",
      "\u001b[1;32m~\\Anaconda3\\lib\\site-packages\\torch\\nn\\modules\\module.py\u001b[0m in \u001b[0;36m_call_impl\u001b[1;34m(self, *input, **kwargs)\u001b[0m\n\u001b[0;32m   1100\u001b[0m         if not (self._backward_hooks or self._forward_hooks or self._forward_pre_hooks or _global_backward_hooks\n\u001b[0;32m   1101\u001b[0m                 or _global_forward_hooks or _global_forward_pre_hooks):\n\u001b[1;32m-> 1102\u001b[1;33m             \u001b[1;32mreturn\u001b[0m \u001b[0mforward_call\u001b[0m\u001b[1;33m(\u001b[0m\u001b[1;33m*\u001b[0m\u001b[0minput\u001b[0m\u001b[1;33m,\u001b[0m \u001b[1;33m**\u001b[0m\u001b[0mkwargs\u001b[0m\u001b[1;33m)\u001b[0m\u001b[1;33m\u001b[0m\u001b[1;33m\u001b[0m\u001b[0m\n\u001b[0m\u001b[0;32m   1103\u001b[0m         \u001b[1;31m# Do not call functions when jit is used\u001b[0m\u001b[1;33m\u001b[0m\u001b[1;33m\u001b[0m\u001b[0m\n\u001b[0;32m   1104\u001b[0m         \u001b[0mfull_backward_hooks\u001b[0m\u001b[1;33m,\u001b[0m \u001b[0mnon_full_backward_hooks\u001b[0m \u001b[1;33m=\u001b[0m \u001b[1;33m[\u001b[0m\u001b[1;33m]\u001b[0m\u001b[1;33m,\u001b[0m \u001b[1;33m[\u001b[0m\u001b[1;33m]\u001b[0m\u001b[1;33m\u001b[0m\u001b[1;33m\u001b[0m\u001b[0m\n",
      "\u001b[1;32m~\\AppData\\Local\\Temp/ipykernel_12440/2785219548.py\u001b[0m in \u001b[0;36mforward\u001b[1;34m(self, x, hidden)\u001b[0m\n\u001b[0;32m     25\u001b[0m         \u001b[1;31m# hidden and cell contains the last time step hidden and cell state of each layer\u001b[0m\u001b[1;33m\u001b[0m\u001b[1;33m\u001b[0m\u001b[0m\n\u001b[0;32m     26\u001b[0m         \u001b[1;31m# we only use hidden and cell as context to feed into decoder\u001b[0m\u001b[1;33m\u001b[0m\u001b[1;33m\u001b[0m\u001b[0m\n\u001b[1;32m---> 27\u001b[1;33m         \u001b[0moutput\u001b[0m\u001b[1;33m,\u001b[0m \u001b[0mhidden\u001b[0m \u001b[1;33m=\u001b[0m \u001b[0mself\u001b[0m\u001b[1;33m.\u001b[0m\u001b[0mrnn\u001b[0m\u001b[1;33m(\u001b[0m\u001b[0membedded\u001b[0m\u001b[1;33m,\u001b[0m \u001b[0mhidden\u001b[0m\u001b[1;33m)\u001b[0m \u001b[1;31m# hidden = [4, 20, 256]\u001b[0m\u001b[1;33m\u001b[0m\u001b[1;33m\u001b[0m\u001b[0m\n\u001b[0m\u001b[0;32m     28\u001b[0m         \u001b[1;31m# hidden = [n layers * n directions, batch size, hidden size]\u001b[0m\u001b[1;33m\u001b[0m\u001b[1;33m\u001b[0m\u001b[0m\n\u001b[0;32m     29\u001b[0m         \u001b[1;31m# cell = [n layers * n directions, batch size, hidden size]\u001b[0m\u001b[1;33m\u001b[0m\u001b[1;33m\u001b[0m\u001b[0m\n",
      "\u001b[1;32m~\\Anaconda3\\lib\\site-packages\\torch\\nn\\modules\\module.py\u001b[0m in \u001b[0;36m_call_impl\u001b[1;34m(self, *input, **kwargs)\u001b[0m\n\u001b[0;32m   1100\u001b[0m         if not (self._backward_hooks or self._forward_hooks or self._forward_pre_hooks or _global_backward_hooks\n\u001b[0;32m   1101\u001b[0m                 or _global_forward_hooks or _global_forward_pre_hooks):\n\u001b[1;32m-> 1102\u001b[1;33m             \u001b[1;32mreturn\u001b[0m \u001b[0mforward_call\u001b[0m\u001b[1;33m(\u001b[0m\u001b[1;33m*\u001b[0m\u001b[0minput\u001b[0m\u001b[1;33m,\u001b[0m \u001b[1;33m**\u001b[0m\u001b[0mkwargs\u001b[0m\u001b[1;33m)\u001b[0m\u001b[1;33m\u001b[0m\u001b[1;33m\u001b[0m\u001b[0m\n\u001b[0m\u001b[0;32m   1103\u001b[0m         \u001b[1;31m# Do not call functions when jit is used\u001b[0m\u001b[1;33m\u001b[0m\u001b[1;33m\u001b[0m\u001b[0m\n\u001b[0;32m   1104\u001b[0m         \u001b[0mfull_backward_hooks\u001b[0m\u001b[1;33m,\u001b[0m \u001b[0mnon_full_backward_hooks\u001b[0m \u001b[1;33m=\u001b[0m \u001b[1;33m[\u001b[0m\u001b[1;33m]\u001b[0m\u001b[1;33m,\u001b[0m \u001b[1;33m[\u001b[0m\u001b[1;33m]\u001b[0m\u001b[1;33m\u001b[0m\u001b[1;33m\u001b[0m\u001b[0m\n",
      "\u001b[1;32m~\\Anaconda3\\lib\\site-packages\\torch\\nn\\modules\\rnn.py\u001b[0m in \u001b[0;36mforward\u001b[1;34m(self, input, hx)\u001b[0m\n\u001b[0;32m    689\u001b[0m         \u001b[0mself\u001b[0m\u001b[1;33m.\u001b[0m\u001b[0mcheck_forward_args\u001b[0m\u001b[1;33m(\u001b[0m\u001b[0minput\u001b[0m\u001b[1;33m,\u001b[0m \u001b[0mhx\u001b[0m\u001b[1;33m,\u001b[0m \u001b[0mbatch_sizes\u001b[0m\u001b[1;33m)\u001b[0m\u001b[1;33m\u001b[0m\u001b[1;33m\u001b[0m\u001b[0m\n\u001b[0;32m    690\u001b[0m         \u001b[1;32mif\u001b[0m \u001b[0mbatch_sizes\u001b[0m \u001b[1;32mis\u001b[0m \u001b[1;32mNone\u001b[0m\u001b[1;33m:\u001b[0m\u001b[1;33m\u001b[0m\u001b[1;33m\u001b[0m\u001b[0m\n\u001b[1;32m--> 691\u001b[1;33m             result = _VF.lstm(input, hx, self._flat_weights, self.bias, self.num_layers,\n\u001b[0m\u001b[0;32m    692\u001b[0m                               self.dropout, self.training, self.bidirectional, self.batch_first)\n\u001b[0;32m    693\u001b[0m         \u001b[1;32melse\u001b[0m\u001b[1;33m:\u001b[0m\u001b[1;33m\u001b[0m\u001b[1;33m\u001b[0m\u001b[0m\n",
      "\u001b[1;31mKeyboardInterrupt\u001b[0m: "
     ]
    }
   ],
   "source": [
    "for epoch in range(N_EPOCHES):\n",
    "    \n",
    "    start_time = time.time()\n",
    "    train_loss = train(model, train_loader, optimizer, criterion)\n",
    "    val_loss = evaluate(model, val_loader, criterion)\n",
    "    end_time = time.time()\n",
    "    secs = end_time - start_time\n",
    "    \n",
    "    print(F'Epoch: {epoch+1:02} | Time:  {secs}s')\n",
    "    print(F'\\tTrain Loss: {train_loss:.3f}')\n",
    "    print(F'\\t Val Loss: {val_loss:.3f}')\n",
    "    writer.add_scalar('Loss/train', train_loss, epoch)\n",
    "    writer.add_scalar('Loss/val', val_loss,epoch)\n",
    "   \n",
    "   \n",
    "   \n",
    "\n",
    "    if val_loss < best_val_loss:\n",
    "        os.makedirs(model_dir, exist_ok=True)\n",
    "        torch.save(model.state_dict(), saved_model_path)\n",
    "writer.close()"
   ]
  },
  {
   "cell_type": "code",
   "execution_count": 22,
   "id": "484968fd",
   "metadata": {},
   "outputs": [
    {
     "name": "stdout",
     "output_type": "stream",
     "text": [
      "| Test Loss: 71.679 \n"
     ]
    }
   ],
   "source": [
    "\n",
    "test_loss = evaluate(model, test_loader, criterion)\n",
    "print(f'| Test Loss: {test_loss:.3f} ')"
   ]
  },
  {
   "cell_type": "code",
   "execution_count": 23,
   "id": "344e130e",
   "metadata": {},
   "outputs": [
    {
     "data": {
      "text/plain": [
       "<Figure size 432x288 with 0 Axes>"
      ]
     },
     "metadata": {},
     "output_type": "display_data"
    },
    {
     "data": {
      "image/png": "[encoded data removed]",
      "text/plain": [
       "<Figure size 432x288 with 2 Axes>"
      ]
     },
     "metadata": {
      "needs_background": "light"
     },
     "output_type": "display_data"
    }
   ],
   "source": [
    "scenes = 2\n",
    "plt.clf()\n",
    "fig, axs = plt.subplots(scenes,sharex=True, sharey=True )\n",
    "plt.axis([0, 90, 0, 40])\n",
    "fig.suptitle('Seq2Seq Model-- 10 players + 1 ball to predict 3 player')\n",
    "p, q = iter(ex_loader).__next__()  # p [20, 15, 11, 4] q [20, 15, 3, 4]\n",
    "r = model(p, q, target_ordinal, num_target).detach()  #r [20, 15, 3, 4]\n",
    "p_= p.permute(0, 2, 1, 3) #20, 11, 15, 4\n",
    "q_= q.permute(0, 2, 1, 3) \n",
    "r_= r.permute(0, 2, 1, 3)\n",
    "for j in range(scenes):\n",
    "    for i in range(len(p_[j])):\n",
    "        if (i >= target_ordinal and i < target_ordinal + num_target):\n",
    "            axs[j].plot(p_[j][i][:, 0], p_[j][i][:, 1], 'ro', linewidth=0.5, label = \"source\")\n",
    "          \n",
    "        axs[j].plot(p_[j][i][:, 0], p_[j][i][:, 1], color = \"red\", label =\"ref\", )\n",
    "    for i in range(len(q_[j])):\n",
    "        axs[j].plot(q_[j][i][:, 0], q_[j][i][:, 1], \"bx\", linewidth = 0.2, label = \"target\")\n",
    "        axs[j].plot(r_[j][i][:, 0], r_[j][i][:, 1], \"gx\", linewidth = 0.2, label = \"predict\")\n",
    "\n",
    "plt.show()\n"
   ]
  },
  {
   "cell_type": "code",
   "execution_count": null,
   "id": "e3a7c321",
   "metadata": {},
   "outputs": [],
   "source": [
    "#!tensorboard --logdir=runs"
   ]
  },
  {
   "cell_type": "code",
   "execution_count": null,
   "id": "2c2256c2",
   "metadata": {},
   "outputs": [],
   "source": []
  },
  {
   "cell_type": "code",
   "execution_count": null,
   "id": "f3c2a323",
   "metadata": {},
   "outputs": [],
   "source": []
  }
 ],
 "metadata": {
  "kernelspec": {
   "display_name": "Python 3 (ipykernel)",
   "language": "python",
   "name": "python3"
  },
  "language_info": {
   "codemirror_mode": {
    "name": "ipython",
    "version": 3
   },
   "file_extension": ".py",
   "mimetype": "text/x-python",
   "name": "python",
   "nbconvert_exporter": "python",
   "pygments_lexer": "ipython3",
   "version": "3.9.7"
  }
 },
 "nbformat": 4,
 "nbformat_minor": 5
}
